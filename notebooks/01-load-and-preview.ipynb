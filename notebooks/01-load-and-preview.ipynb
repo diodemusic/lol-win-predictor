{
 "cells": [
  {
   "cell_type": "code",
   "execution_count": 1,
   "id": "d326775d",
   "metadata": {},
   "outputs": [],
   "source": [
    "import os\n",
    "import glob\n",
    "import json\n",
    "import pandas as pd"
   ]
  },
  {
   "cell_type": "code",
   "execution_count": 2,
   "id": "1f02761d",
   "metadata": {},
   "outputs": [],
   "source": [
    "\n",
    "json_dir = \"../data/raw\"\n",
    "pattern = os.path.join(json_dir, '*.json')\n",
    "json_files = glob.glob(pattern)"
   ]
  },
  {
   "cell_type": "code",
   "execution_count": null,
   "id": "6122718c",
   "metadata": {},
   "outputs": [],
   "source": [
    "dataframes = []\n",
    "\n",
    "for file in json_files:\n",
    "    with open(file, \"r\", encoding=\"utf-8\") as f:\n",
    "        content = json.load(f)\n",
    "\n",
    "        if isinstance(content, list):\n",
    "            df = pd.json_normalize(content)\n",
    "        elif isinstance(content, dict):\n",
    "            key = \"data\"\n",
    "            if key in content and isinstance(content[key], list):\n",
    "                df = pd.json_normalize(content[key])\n",
    "            else:\n",
    "                df = pd.json_normalize(content)\n",
    "        else:\n",
    "            df = pd.DataFrame([content])\n",
    "\n",
    "    dataframes.append(df)\n",
    "\n",
    "if dataframes:\n",
    "    full_df = pd.concat(dataframes, ignore_index=True)\n",
    "else:\n",
    "    full_df = pd.DataFrame()"
   ]
  },
  {
   "cell_type": "code",
   "execution_count": null,
   "id": "6e24f936",
   "metadata": {},
   "outputs": [],
   "source": [
    "print(f\"Loaded {len(dataframes)} files with total {full_df.shape[0]} records and {full_df.shape[1]} fields.\")\n",
    "print(full_df.head())"
   ]
  }
 ],
 "metadata": {
  "kernelspec": {
   "display_name": ".venv",
   "language": "python",
   "name": "python3"
  },
  "language_info": {
   "codemirror_mode": {
    "name": "ipython",
    "version": 3
   },
   "file_extension": ".py",
   "mimetype": "text/x-python",
   "name": "python",
   "nbconvert_exporter": "python",
   "pygments_lexer": "ipython3",
   "version": "3.13.1"
  }
 },
 "nbformat": 4,
 "nbformat_minor": 5
}
